{
 "cells": [
  {
   "cell_type": "markdown",
   "id": "558ad02e",
   "metadata": {},
   "source": [
    "# Association Rule Mining"
   ]
  },
  {
   "cell_type": "code",
   "execution_count": 1,
   "id": "9ee7ae00",
   "metadata": {},
   "outputs": [],
   "source": [
    "import pandas as pd"
   ]
  },
  {
   "cell_type": "code",
   "execution_count": 7,
   "id": "1964089b",
   "metadata": {},
   "outputs": [],
   "source": [
    "from mlxtend.frequent_patterns import apriori, association_rules"
   ]
  },
  {
   "cell_type": "code",
   "execution_count": 2,
   "id": "d9c1b6f6",
   "metadata": {},
   "outputs": [],
   "source": [
    "df = pd.read_csv('df_processed.csv')"
   ]
  },
  {
   "cell_type": "code",
   "execution_count": 3,
   "id": "b3a1c6a3",
   "metadata": {},
   "outputs": [],
   "source": [
    "df_assoc = df.copy()\n",
    "df_assoc['PM2.5_Level'] = pd.cut(df_assoc['PM2.5'], bins=3, labels=['Low', 'Medium', 'High'])\n",
    "df_assoc['NO2_Level'] = pd.cut(df_assoc['NO2'], bins=3, labels=['Low', 'Medium', 'High'])"
   ]
  },
  {
   "cell_type": "code",
   "execution_count": 5,
   "id": "e9c639d4",
   "metadata": {},
   "outputs": [
    {
     "name": "stderr",
     "output_type": "stream",
     "text": [
      "C:\\Users\\KIIT0001\\AppData\\Local\\Temp\\ipykernel_60196\\271804583.py:3: SettingWithCopyWarning: \n",
      "A value is trying to be set on a copy of a slice from a DataFrame.\n",
      "Try using .loc[row_indexer,col_indexer] = value instead\n",
      "\n",
      "See the caveats in the documentation: https://pandas.pydata.org/pandas-docs/stable/user_guide/indexing.html#returning-a-view-versus-a-copy\n",
      "  rules_df['Is_Weekend'] = rules_df['Is_Weekend'].map({0: 'Weekday', 1: 'Weekend'})\n"
     ]
    }
   ],
   "source": [
    "rules_df = df_assoc[['PM2.5_Level', 'NO2_Level', 'AQI_Bucket', 'Season', 'Is_Weekend']]\n",
    "\n",
    "rules_df['Is_Weekend'] = rules_df['Is_Weekend'].map({0: 'Weekday', 1: 'Weekend'})"
   ]
  },
  {
   "cell_type": "code",
   "execution_count": 10,
   "id": "35e3fe99",
   "metadata": {},
   "outputs": [
    {
     "name": "stdout",
     "output_type": "stream",
     "text": [
      "\n",
      "First 5 rows of the one-hot encoded data for rule mining:\n",
      "   PM2.5_Level_Low  PM2.5_Level_Medium  PM2.5_Level_High  NO2_Level_Low  \\\n",
      "0             True               False             False           True   \n",
      "1             True               False             False           True   \n",
      "2             True               False             False           True   \n",
      "3             True               False             False           True   \n",
      "4             True               False             False           True   \n",
      "\n",
      "   NO2_Level_Medium  NO2_Level_High  AQI_Bucket_Good  AQI_Bucket_Moderate  \\\n",
      "0             False           False            False                 True   \n",
      "1             False           False            False                 True   \n",
      "2             False           False            False                 True   \n",
      "3             False           False            False                 True   \n",
      "4             False           False            False                 True   \n",
      "\n",
      "   AQI_Bucket_Poor  AQI_Bucket_Satisfactory  AQI_Bucket_Severe  \\\n",
      "0            False                    False              False   \n",
      "1            False                    False              False   \n",
      "2            False                    False              False   \n",
      "3            False                    False              False   \n",
      "4            False                    False              False   \n",
      "\n",
      "   AQI_Bucket_Very Poor  Season_Monsoon  Season_Post-Monsoon  Season_Summer  \\\n",
      "0                 False           False                False          False   \n",
      "1                 False           False                False          False   \n",
      "2                 False           False                False          False   \n",
      "3                 False           False                False          False   \n",
      "4                 False           False                False          False   \n",
      "\n",
      "   Season_Winter  Is_Weekend_Weekday  Is_Weekend_Weekend  \n",
      "0           True                True               False  \n",
      "1           True                True               False  \n",
      "2           True               False                True  \n",
      "3           True               False                True  \n",
      "4           True                True               False  \n"
     ]
    }
   ],
   "source": [
    "df_basket = pd.get_dummies(rules_df.dropna())\n",
    "print(\"\\nFirst 5 rows of the one-hot encoded data for rule mining:\")\n",
    "print(df_basket.head())"
   ]
  },
  {
   "cell_type": "code",
   "execution_count": 11,
   "id": "3737d572",
   "metadata": {},
   "outputs": [],
   "source": [
    "frequent_itemsets = apriori(df_basket, min_support=0.05, use_colnames=True)\n",
    "rules = association_rules(frequent_itemsets, metric=\"lift\", min_threshold=1.2)"
   ]
  },
  {
   "cell_type": "code",
   "execution_count": 12,
   "id": "12c64c66",
   "metadata": {},
   "outputs": [
    {
     "name": "stdout",
     "output_type": "stream",
     "text": [
      "\n",
      "Top Association Rules found with new features:\n",
      "                                          antecedents  \\\n",
      "4                           (AQI_Bucket_Satisfactory)   \n",
      "0                           (AQI_Bucket_Satisfactory)   \n",
      "2          (AQI_Bucket_Satisfactory, PM2.5_Level_Low)   \n",
      "16           (NO2_Level_Low, AQI_Bucket_Satisfactory)   \n",
      "6            (NO2_Level_Low, AQI_Bucket_Satisfactory)   \n",
      "14  (NO2_Level_Low, AQI_Bucket_Satisfactory, PM2.5...   \n",
      "20                          (AQI_Bucket_Satisfactory)   \n",
      "8                           (AQI_Bucket_Satisfactory)   \n",
      "18         (AQI_Bucket_Satisfactory, PM2.5_Level_Low)   \n",
      "24      (AQI_Bucket_Satisfactory, Is_Weekend_Weekday)   \n",
      "\n",
      "                                         consequents   support  confidence  \\\n",
      "4                  (Season_Monsoon, PM2.5_Level_Low)  0.127764    0.458779   \n",
      "0                                   (Season_Monsoon)  0.127764    0.458779   \n",
      "2                                   (Season_Monsoon)  0.127764    0.458779   \n",
      "16                 (Season_Monsoon, PM2.5_Level_Low)  0.127696    0.458759   \n",
      "6                                   (Season_Monsoon)  0.127696    0.458759   \n",
      "14                                  (Season_Monsoon)  0.127696    0.458759   \n",
      "20  (NO2_Level_Low, Season_Monsoon, PM2.5_Level_Low)  0.127696    0.458536   \n",
      "8                    (NO2_Level_Low, Season_Monsoon)  0.127696    0.458536   \n",
      "18                   (NO2_Level_Low, Season_Monsoon)  0.127696    0.458536   \n",
      "24                 (Season_Monsoon, PM2.5_Level_Low)  0.091328    0.457429   \n",
      "\n",
      "        lift  \n",
      "4   1.452735  \n",
      "0   1.448232  \n",
      "2   1.448232  \n",
      "16  1.452672  \n",
      "6   1.448168  \n",
      "14  1.448168  \n",
      "20  1.459320  \n",
      "8   1.454773  \n",
      "18  1.454773  \n",
      "24  1.448459  \n"
     ]
    }
   ],
   "source": [
    "rules = rules.sort_values(['confidence', 'lift'], ascending=[False, False])\n",
    "print(\"\\nTop Association Rules found with new features:\")\n",
    "print(rules[['antecedents', 'consequents', 'support', 'confidence', 'lift']].head(10))"
   ]
  },
  {
   "cell_type": "code",
   "execution_count": 14,
   "id": "603a03d9",
   "metadata": {},
   "outputs": [
    {
     "name": "stdout",
     "output_type": "stream",
     "text": [
      "Rule: IF {AQI_Bucket_Satisfactory} -> THEN {Season_Monsoon, PM2.5_Level_Low}\n",
      "  - Confidence: 45.88% | Lift: 1.45\n",
      "\n",
      "Rule: IF {AQI_Bucket_Satisfactory} -> THEN {Season_Monsoon}\n",
      "  - Confidence: 45.88% | Lift: 1.45\n",
      "\n",
      "Rule: IF {AQI_Bucket_Satisfactory, PM2.5_Level_Low} -> THEN {Season_Monsoon}\n",
      "  - Confidence: 45.88% | Lift: 1.45\n",
      "\n",
      "Rule: IF {NO2_Level_Low, AQI_Bucket_Satisfactory} -> THEN {Season_Monsoon, PM2.5_Level_Low}\n",
      "  - Confidence: 45.88% | Lift: 1.45\n",
      "\n",
      "Rule: IF {NO2_Level_Low, AQI_Bucket_Satisfactory} -> THEN {Season_Monsoon}\n",
      "  - Confidence: 45.88% | Lift: 1.45\n",
      "\n",
      "Rule: IF {NO2_Level_Low, AQI_Bucket_Satisfactory, PM2.5_Level_Low} -> THEN {Season_Monsoon}\n",
      "  - Confidence: 45.88% | Lift: 1.45\n",
      "\n",
      "Rule: IF {AQI_Bucket_Satisfactory} -> THEN {NO2_Level_Low, Season_Monsoon, PM2.5_Level_Low}\n",
      "  - Confidence: 45.85% | Lift: 1.46\n",
      "\n",
      "Rule: IF {AQI_Bucket_Satisfactory} -> THEN {NO2_Level_Low, Season_Monsoon}\n",
      "  - Confidence: 45.85% | Lift: 1.45\n",
      "\n",
      "Rule: IF {AQI_Bucket_Satisfactory, PM2.5_Level_Low} -> THEN {NO2_Level_Low, Season_Monsoon}\n",
      "  - Confidence: 45.85% | Lift: 1.45\n",
      "\n",
      "Rule: IF {AQI_Bucket_Satisfactory, Is_Weekend_Weekday} -> THEN {Season_Monsoon, PM2.5_Level_Low}\n",
      "  - Confidence: 45.74% | Lift: 1.45\n",
      "\n"
     ]
    }
   ],
   "source": [
    "# Your existing code to generate and sort the rules\n",
    "rules = rules.sort_values(['confidence', 'lift'], ascending=[False, False])\n",
    "\n",
    "\n",
    "\n",
    "# Loop through the top 10 rules and print them in a readable format\n",
    "for index, rule in rules.head(10).iterrows():\n",
    "    # Convert the frozensets to clean strings\n",
    "    antecedents = ', '.join(list(rule['antecedents']))\n",
    "    consequents = ', '.join(list(rule['consequents']))\n",
    "    \n",
    "    # Get the metrics\n",
    "    confidence = rule['confidence']\n",
    "    lift = rule['lift']\n",
    "    \n",
    "    # Print the rule\n",
    "    print(f\"Rule: IF {{{antecedents}}} -> THEN {{{consequents}}}\")\n",
    "    \n",
    "    # Print the metrics in a formatted way\n",
    "    print(f\"  - Confidence: {confidence:.2%} | Lift: {lift:.2f}\\n\")"
   ]
  },
  {
   "cell_type": "code",
   "execution_count": null,
   "id": "91fa9e69",
   "metadata": {},
   "outputs": [],
   "source": []
  },
  {
   "cell_type": "code",
   "execution_count": null,
   "id": "0ad67980",
   "metadata": {},
   "outputs": [],
   "source": []
  },
  {
   "cell_type": "code",
   "execution_count": null,
   "id": "c2e6822a",
   "metadata": {},
   "outputs": [],
   "source": []
  },
  {
   "cell_type": "code",
   "execution_count": null,
   "id": "77718cf1",
   "metadata": {},
   "outputs": [],
   "source": []
  },
  {
   "cell_type": "code",
   "execution_count": null,
   "id": "599982f0",
   "metadata": {},
   "outputs": [],
   "source": []
  },
  {
   "cell_type": "code",
   "execution_count": null,
   "id": "101b0633",
   "metadata": {},
   "outputs": [],
   "source": []
  },
  {
   "cell_type": "code",
   "execution_count": null,
   "id": "3687e5e0",
   "metadata": {},
   "outputs": [],
   "source": []
  },
  {
   "cell_type": "code",
   "execution_count": null,
   "id": "06a6959d",
   "metadata": {},
   "outputs": [],
   "source": []
  }
 ],
 "metadata": {
  "kernelspec": {
   "display_name": "Python (torchenv)",
   "language": "python",
   "name": "torchenv"
  },
  "language_info": {
   "codemirror_mode": {
    "name": "ipython",
    "version": 3
   },
   "file_extension": ".py",
   "mimetype": "text/x-python",
   "name": "python",
   "nbconvert_exporter": "python",
   "pygments_lexer": "ipython3",
   "version": "3.11.9"
  }
 },
 "nbformat": 4,
 "nbformat_minor": 5
}
